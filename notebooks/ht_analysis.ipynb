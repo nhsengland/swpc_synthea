{
 "cells": [
  {
   "cell_type": "markdown",
   "metadata": {},
   "source": [
    "# Blood Pressure Plotting\n",
    "\n",
    "A short notebook demonstrating how to plot BP readings for a cohort of synthetic patients. Hypertension diagnoses, if present in the patient's history, are also displayed.\n",
    "\n",
    "We also include plots showing the prevalence of HT among the synthetic population and how this differs based on demographics.\n",
    "\n",
    "To generate a cohort of 100 synthetic patients run the following command inside your local clone of the repo,\n",
    "\n",
    "`./run_synthea -p 100 --exporter.csv.export true`"
   ]
  },
  {
   "cell_type": "code",
   "execution_count": null,
   "metadata": {},
   "outputs": [],
   "source": [
    "import pandas as pd\n",
    "\n",
    "# Point this to the csv subfolder of the output directory created by Synthea\n",
    "output_path = \"../output/csv\"\n",
    "\n",
    "conds = pd.read_csv(f\"{output_path}/conditions.csv\")\n",
    "obs = pd.read_csv(f\"{output_path}/observations.csv\")\n",
    "meds = pd.read_csv(f\"{output_path}/medications.csv\")\n",
    "pats = pd.read_csv(f\"{output_path}/patients.csv\")\n",
    "encounters = pd.read_csv(f\"{output_path}/encounters.csv\")"
   ]
  },
  {
   "cell_type": "code",
   "execution_count": null,
   "metadata": {},
   "outputs": [],
   "source": [
    "import matplotlib.pyplot as plt\n",
    "\n",
    "def date_format(date_str):\n",
    "    truncated_str = date_str[:10]\n",
    "    return pd.to_datetime(truncated_str)\n",
    "\n",
    "def date_first_ht_med(meds_df, patient_id):\n",
    "    patient_ht_meds = meds_df[(meds_df[\"PATIENT\"] == patient_id) & (meds_df[\"REASONCODE\"] == \"hypertension_dx\")]\n",
    "    first_date = patient_meds[\"START\"].min()\n",
    "    return first_date\n",
    "\n",
    "def plot_bp(patient_id, obs_df, conds, encounters):\n",
    "    ht_conds = conds[conds[\"DESCRIPTION\"] == \"Essential hypertension (disorder)\"]\n",
    "    ht_patients = list(ht_conds[\"PATIENT\"])\n",
    "    if patient_id in ht_patients:\n",
    "        ht_diagnosis_date = ht_conds[ht_conds[\"PATIENT\"] == patient_id][\"START\"].iloc[0]\n",
    "        print(ht_diagnosis_date)\n",
    "        ht_diagnosis_date = date_format(ht_diagnosis_date)\n",
    "        print(ht_diagnosis_date)\n",
    "    else:\n",
    "        ht_diagnosis_date = None\n",
    "    sys_values = obs_df[(obs_df[\"DESCRIPTION\"].str.contains(\"Systolic\")) & (obs[\"PATIENT\"] == patient_id)]\n",
    "    dia_values = obs_df[(obs_df[\"DESCRIPTION\"].str.contains(\"Diastolic\")) & (obs[\"PATIENT\"] == patient_id)]\n",
    "    fig, ax = plt.subplots(1,1, figsize=(8,4))\n",
    "    ax.xaxis.set_major_locator(plt.MaxNLocator(5))\n",
    "    ax.plot(sys_values[\"DATE\"].apply(date_format), sys_values[\"VALUE\"].astype(float), label = \"systolic\")\n",
    "    ax.plot(dia_values[\"DATE\"].apply(date_format), dia_values[\"VALUE\"].astype(float), label = \"diastolic\")\n",
    "\n",
    "    title = f\"BP Measurements for Patient: {patient_id}\"\n",
    "\n",
    "    if ht_diagnosis_date:\n",
    "        ax.axvline(ht_diagnosis_date, label=\"HT Diagnosis\", c=\"r\", linestyle = \"--\")\n",
    "    ax.set_title(title)\n",
    "    plt.xticks(rotation = 45)\n",
    "    plt.legend()\n",
    "    plt.show()"
   ]
  },
  {
   "cell_type": "code",
   "execution_count": null,
   "metadata": {},
   "outputs": [],
   "source": [
    "ht_patients = list(set(conds[conds[\"DESCRIPTION\"] == \"Essential hypertension (disorder)\"][\"PATIENT\"]))\n",
    "patients = list(set(conds[\"PATIENT\"]))\n",
    "\n",
    "# plot for first 10 patients\n",
    "for pat in patients[:4]:\n",
    "    plot_bp(pat, obs, conds, encounters)"
   ]
  },
  {
   "cell_type": "markdown",
   "metadata": {},
   "source": [
    "# Population Analysis"
   ]
  },
  {
   "cell_type": "markdown",
   "metadata": {},
   "source": [
    "### Proportion of HT Patients"
   ]
  },
  {
   "cell_type": "code",
   "execution_count": null,
   "metadata": {},
   "outputs": [],
   "source": [
    "fig, ax = plt.subplots(1,1)\n",
    "\n",
    "p_ht_patients = 100*len(ht_patients)/len(patients)\n",
    "p_non_ht_patients = 100*(len(patients) - len(ht_patients))/len(patients)\n",
    "\n",
    "ax.bar(range(2), [p_ht_patients, p_non_ht_patients])\n",
    "ax.set_xticks([0, 1], [\"HT Patients\", \"Non-HT Patients\"])\n",
    "ax.set_ylabel(\"% of patients\")\n",
    "ax.set_title(\"Proportion of Patients Diagnosed with HT During Simulation\")\n"
   ]
  },
  {
   "cell_type": "markdown",
   "metadata": {},
   "source": [
    "### Age at HT Diagnosis"
   ]
  },
  {
   "cell_type": "code",
   "execution_count": null,
   "metadata": {},
   "outputs": [],
   "source": [
    "ht_diagoneses = conds[conds[\"DESCRIPTION\"] == \"Essential hypertension (disorder)\"]\n",
    "\n",
    "patient_births = pats.rename(columns={\"Id\": \"PATIENT\"})\n",
    "\n",
    "ht_diagoneses = ht_diagoneses.merge(patient_births, on=[\"PATIENT\"], how=\"left\")\n",
    "\n",
    "ht_diagoneses[\"START\"] = ht_diagoneses[\"START\"].apply(pd.to_datetime)\n",
    "ht_diagoneses[\"BIRTHDATE\"] = ht_diagoneses[\"BIRTHDATE\"].apply(pd.to_datetime)\n",
    "\n",
    "ht_diagoneses[\"PATIENT_AGE\"] = ht_diagoneses[\"START\"] - ht_diagoneses[\"BIRTHDATE\"]\n",
    "\n",
    "ht_diagoneses[\"DIAGNOSIS_AGE\"] = ht_diagoneses.apply(lambda x: len(pd.date_range(x[\"BIRTHDATE\"], x[\"START\"], freq=\"YE\")), axis=1)"
   ]
  },
  {
   "cell_type": "code",
   "execution_count": null,
   "metadata": {},
   "outputs": [],
   "source": [
    "fig, ax = plt.subplots(1,1)\n",
    "\n",
    "ht_diagoneses[\"DIAGNOSIS_AGE\"].plot.hist(ax=ax, bins=50)\n",
    "\n",
    "ax.set_title(\"Age at HT Diagnosis\")"
   ]
  },
  {
   "cell_type": "markdown",
   "metadata": {},
   "source": [
    "### Gender and Race Breakdown"
   ]
  },
  {
   "cell_type": "code",
   "execution_count": null,
   "metadata": {},
   "outputs": [],
   "source": [
    "race_perc_dict = {}\n",
    "\n",
    "gender_perc_dict = {}\n",
    "\n",
    "for race in ht_diagoneses[\"RACE\"].unique():\n",
    "    total = len(pats[pats[\"RACE\"] == race])\n",
    "    ht = len(ht_diagoneses[ht_diagoneses[\"RACE\"] == race])\n",
    "    race_perc_dict[race] = 100*ht/total\n",
    "\n",
    "for gender in ht_diagoneses[\"GENDER\"].unique():\n",
    "    total = len(pats[pats[\"GENDER\"] == gender])\n",
    "    ht = len(ht_diagoneses[ht_diagoneses[\"GENDER\"] == gender])\n",
    "    gender_perc_dict[gender] = 100*ht/total"
   ]
  },
  {
   "cell_type": "code",
   "execution_count": null,
   "metadata": {},
   "outputs": [],
   "source": [
    "race_perc_dict"
   ]
  },
  {
   "cell_type": "code",
   "execution_count": null,
   "metadata": {},
   "outputs": [],
   "source": [
    "fig, axs = plt.subplots(1,2, figsize=(15,5))\n",
    "\n",
    "axs[0].bar(race_perc_dict.keys(), race_perc_dict.values())\n",
    "axs[0].set_ylabel(\"% of patients\")\n",
    "axs[0].set_title(\"Proportion of HT by Race\")\n",
    "\n",
    "axs[1].bar(gender_perc_dict.keys(), gender_perc_dict.values())\n",
    "axs[1].set_ylabel(\"% of patients\")\n",
    "axs[1].set_title(\"Proportion of HT by Gender\")"
   ]
  },
  {
   "cell_type": "code",
   "execution_count": null,
   "metadata": {},
   "outputs": [],
   "source": []
  }
 ],
 "metadata": {
  "kernelspec": {
   "display_name": "swp",
   "language": "python",
   "name": "python3"
  },
  "language_info": {
   "codemirror_mode": {
    "name": "ipython",
    "version": 3
   },
   "file_extension": ".py",
   "mimetype": "text/x-python",
   "name": "python",
   "nbconvert_exporter": "python",
   "pygments_lexer": "ipython3",
   "version": "3.9.16"
  }
 },
 "nbformat": 4,
 "nbformat_minor": 2
}
