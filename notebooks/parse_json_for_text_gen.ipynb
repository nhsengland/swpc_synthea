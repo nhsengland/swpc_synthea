{
 "cells": [
  {
   "cell_type": "code",
   "execution_count": 13,
   "metadata": {},
   "outputs": [],
   "source": [
    "import json"
   ]
  },
  {
   "cell_type": "code",
   "execution_count": 20,
   "metadata": {},
   "outputs": [],
   "source": [
    "person_to_parse = 'Adam_Harvey_a189cb54-7830-73d7-efaa-4b454bdf2898'"
   ]
  },
  {
   "cell_type": "code",
   "execution_count": 21,
   "metadata": {},
   "outputs": [],
   "source": [
    "with open(f'../output/json/{person_to_parse}.json') as f:\n",
    "    person_data = json.load(f)"
   ]
  },
  {
   "cell_type": "markdown",
   "metadata": {},
   "source": [
    "Each person's json has a \"record\" section - which includes all of a persons encounters with the health system \n",
    "\n",
    "### This is the part we need to focus on when parsing\n",
    "\n",
    "The record jason contains \"encounters\" which is a list, and each item in the list is a dictionary for a single encounter that includes:\n",
    "* observations\n",
    "* reports \n",
    "* conditions \n",
    "* allergies\n",
    "* procedures\n",
    "* immunizations\n",
    "* medications\n",
    "* careplans \n",
    "* imagingStudies\n",
    "* devices\n",
    "* supplies\n",
    "* provider \n",
    "* clinician \n",
    "* ended (bool of whether the encounter ended or not)\n",
    "* endedTime\n",
    "* chronicMedsRenewed\n",
    "* uuid (unique id)\n",
    "* name\n",
    "* start\n",
    "* stop (as far as I can tell this is the same as the endedTime)\n",
    "* type (e.g. wellness)\n",
    "* codes (SNOMED codes related to the encounter)\n",
    "\n",
    "These can be left blank if for example that patient didnt have an *immunization* at this encounter"
   ]
  },
  {
   "cell_type": "code",
   "execution_count": 22,
   "metadata": {},
   "outputs": [],
   "source": [
    "encounters = person_data['record']['encounters']"
   ]
  },
  {
   "cell_type": "code",
   "execution_count": 66,
   "metadata": {},
   "outputs": [
    {
     "name": "stdout",
     "output_type": "stream",
     "text": [
      "{'observations': [{'value': 55.8, 'category': 'vital-signs', 'unit': 'cm', 'observations': [], 'uuid': 'e967d51c-ba0d-3bcc-95f8-662fdfa380c5', 'name': 'Record_Height', 'start': -481354490771, 'stop': 0, 'type': '8302-2', 'codes': [{'system': 'LOINC', 'code': '8302-2', 'display': 'Body Height'}]}, {'value': 3.0, 'category': 'vital-signs', 'unit': '{score}', 'observations': [], 'uuid': 'f60acf5a-47aa-70fc-bee1-80837107e8f6', 'name': 'Record_Pain', 'start': -481354490771, 'stop': 0, 'type': '72514-3', 'codes': [{'system': 'LOINC', 'code': '72514-3', 'display': 'Pain severity - 0-10 verbal numeric rating [Score] - Reported'}]}, {'value': 4.6, 'category': 'vital-signs', 'unit': 'kg', 'observations': [], 'uuid': 'e3b9cda6-da8d-b14d-2bd3-81f399aab874', 'name': 'Record_Weight', 'start': -481354490771, 'stop': 0, 'type': '29463-7', 'codes': [{'system': 'LOINC', 'code': '29463-7', 'display': 'Body Weight'}]}, {'value': 18.497761279908698, 'category': 'vital-signs', 'unit': '%', 'observations': [], 'uuid': '390837ac-8052-0d9f-3083-c99094e71055', 'name': 'Record_Weight_For_Length_Percentile', 'start': -481354490771, 'stop': 0, 'type': '77606-2', 'codes': [{'system': 'LOINC', 'code': '77606-2', 'display': 'Weight-for-length Per age and sex'}]}, {'value': 90.16, 'category': 'vital-signs', 'unit': '%', 'observations': [], 'uuid': '6914c35b-4b84-e716-352b-c0d5675c9c59', 'name': 'Record_Head_Circumference_Percentile', 'start': -481354490771, 'stop': 0, 'type': '8289-1', 'codes': [{'system': 'LOINC', 'code': '8289-1', 'display': 'Head Occipital-frontal circumference Percentile'}]}, {'value': 37.99, 'category': 'vital-signs', 'unit': 'cm', 'observations': [], 'uuid': 'a44bfd17-d3bc-c660-b42a-8fe027efc5b4', 'name': 'Record Head Circumference', 'start': -481354490771, 'stop': 0, 'type': '9843-4', 'codes': [{'system': 'LOINC', 'code': '9843-4', 'display': 'Head Occipital-frontal circumference'}]}, {'category': 'vital-signs', 'observations': [{'value': 90.0, 'category': 'vital-signs', 'unit': 'mm[Hg]', 'observations': [], 'uuid': '35d40860-d0b5-4f2c-96f1-7485205c48e9', 'start': -481354490771, 'stop': 0, 'type': '8462-4', 'codes': [{'system': 'LOINC', 'code': '8462-4', 'display': 'Diastolic Blood Pressure'}]}, {'value': 108.0, 'category': 'vital-signs', 'unit': 'mm[Hg]', 'observations': [], 'uuid': 'b55a9f50-5048-cdd4-49f6-00dabcf1f337', 'start': -481354490771, 'stop': 0, 'type': '8480-6', 'codes': [{'system': 'LOINC', 'code': '8480-6', 'display': 'Systolic Blood Pressure'}]}], 'uuid': 'e8791c94-e6bf-46a5-4db6-37c88b418644', 'name': 'Record_BP', 'start': -481354490771, 'stop': 0, 'type': '85354-9', 'codes': [{'system': 'LOINC', 'code': '85354-9', 'display': 'Blood pressure panel with all children optional'}]}, {'value': 99.0, 'category': 'vital-signs', 'unit': '/min', 'observations': [], 'uuid': '076111b5-ca65-d74e-f364-53a04e6643dc', 'name': 'Record_Heart_Rate', 'start': -481354490771, 'stop': 0, 'type': '8867-4', 'codes': [{'system': 'LOINC', 'code': '8867-4', 'display': 'Heart rate'}]}, {'value': 14.0, 'category': 'vital-signs', 'unit': '/min', 'observations': [], 'uuid': 'd7899188-fd23-3f04-9ea4-af16a78ec647', 'name': 'Record_Respiratory_Rate', 'start': -481354490771, 'stop': 0, 'type': '9279-1', 'codes': [{'system': 'LOINC', 'code': '9279-1', 'display': 'Respiratory rate'}]}, {'value': 7.936195460890765, 'category': 'laboratory', 'unit': '10*3/uL', 'observations': [], 'uuid': 'a1340d37-e8e0-98ae-048c-14dabcd2c8f1', 'start': -481354490771, 'stop': 0, 'type': '6690-2', 'codes': [{'system': 'LOINC', 'code': '6690-2', 'display': 'Leukocytes [#/volume] in Blood by Automated count'}]}, {'value': 5.398795194576183, 'category': 'laboratory', 'unit': '10*6/uL', 'observations': [], 'uuid': '4b59189e-8d96-fa86-51b9-0bf567ea3785', 'start': -481354490771, 'stop': 0, 'type': '789-8', 'codes': [{'system': 'LOINC', 'code': '789-8', 'display': 'Erythrocytes [#/volume] in Blood by Automated count'}]}, {'value': 15.415824865205959, 'category': 'laboratory', 'unit': 'g/dL', 'observations': [], 'uuid': '16f96bf1-0b98-60a5-c6fd-798a12146e53', 'start': -481354490771, 'stop': 0, 'type': '718-7', 'codes': [{'system': 'LOINC', 'code': '718-7', 'display': 'Hemoglobin [Mass/volume] in Blood'}]}, {'value': 49.4455125037939, 'category': 'laboratory', 'unit': '%', 'observations': [], 'uuid': '204d524e-b4c9-ae03-5c91-3f012325de2d', 'start': -481354490771, 'stop': 0, 'type': '4544-3', 'codes': [{'system': 'LOINC', 'code': '4544-3', 'display': 'Hematocrit [Volume Fraction] of Blood by Automated count'}]}, {'value': 87.30808592682881, 'category': 'laboratory', 'unit': 'fL', 'observations': [], 'uuid': 'da854e02-216f-9885-d794-0c8ed4511064', 'start': -481354490771, 'stop': 0, 'type': '787-2', 'codes': [{'system': 'LOINC', 'code': '787-2', 'display': 'MCV [Entitic volume] by Automated count'}]}, {'value': 31.524461572320334, 'category': 'laboratory', 'unit': 'pg', 'observations': [], 'uuid': '915cbdcb-2ea0-1bd0-2e1b-fa70988f4a0e', 'start': -481354490771, 'stop': 0, 'type': '785-6', 'codes': [{'system': 'LOINC', 'code': '785-6', 'display': 'MCH [Entitic mass] by Automated count'}]}, {'value': 35.48135483140935, 'category': 'laboratory', 'unit': 'g/dL', 'observations': [], 'uuid': 'cd2d62e1-c76d-0456-d747-db4d9ac5dbd9', 'start': -481354490771, 'stop': 0, 'type': '786-4', 'codes': [{'system': 'LOINC', 'code': '786-4', 'display': 'MCHC [Mass/volume] by Automated count'}]}, {'value': 45.658606730979685, 'category': 'laboratory', 'unit': 'fL', 'observations': [], 'uuid': 'a70469bf-2ab1-591d-b46b-667cc54c8293', 'start': -481354490771, 'stop': 0, 'type': '21000-5', 'codes': [{'system': 'LOINC', 'code': '21000-5', 'display': 'Erythrocyte distribution width [Entitic volume] by Automated count'}]}, {'value': 208.1194723958027, 'category': 'laboratory', 'unit': '10*3/uL', 'observations': [], 'uuid': '903747c8-83c8-f62d-a65b-23249047da29', 'start': -481354490771, 'stop': 0, 'type': '777-3', 'codes': [{'system': 'LOINC', 'code': '777-3', 'display': 'Platelets [#/volume] in Blood by Automated count'}]}, {'value': 453.2027775302534, 'category': 'laboratory', 'unit': 'fL', 'observations': [], 'uuid': '54f0ee75-868c-daad-e149-75687e1697dc', 'start': -481354490771, 'stop': 0, 'type': '32207-3', 'codes': [{'system': 'LOINC', 'code': '32207-3', 'display': 'Platelet distribution width [Entitic volume] in Blood by Automated count'}]}, {'value': 10.05367311714539, 'category': 'laboratory', 'unit': 'fL', 'observations': [], 'uuid': '63f29082-2bfa-550d-a6df-e51f136059c8', 'start': -481354490771, 'stop': 0, 'type': '32623-1', 'codes': [{'system': 'LOINC', 'code': '32623-1', 'display': 'Platelet mean volume [Entitic volume] in Blood by Automated count'}]}, {'value': {'system': 'SNOMED-CT', 'code': '266919005', 'display': 'Never smoked tobacco (finding)'}, 'category': 'social-history', 'unit': '', 'observations': [], 'uuid': '9185b9ce-4ff6-291f-5b26-e22a64768d85', 'name': 'Record_Never_Smoker', 'start': -481354490771, 'stop': 0, 'type': '72166-2', 'codes': [{'system': 'LOINC', 'code': '72166-2', 'display': 'Tobacco smoking status'}]}, {'value': 55.8, 'category': 'vital-signs', 'unit': 'cm', 'observations': [], 'uuid': '4209b583-d6f0-f868-5194-99e9c382046a', 'name': 'Record_Height', 'start': -481354490771, 'stop': 0, 'type': '8302-2', 'codes': [{'system': 'LOINC', 'code': '8302-2', 'display': 'Body Height'}]}, {'value': 3.0, 'category': 'vital-signs', 'unit': '{score}', 'observations': [], 'uuid': '0f415898-8d8f-bd09-e8c8-21493a4e28cb', 'name': 'Record_Pain', 'start': -481354490771, 'stop': 0, 'type': '72514-3', 'codes': [{'system': 'LOINC', 'code': '72514-3', 'display': 'Pain severity - 0-10 verbal numeric rating [Score] - Reported'}]}, {'value': 4.6, 'category': 'vital-signs', 'unit': 'kg', 'observations': [], 'uuid': '2f5084b5-fa4e-02b0-3a8d-bc6566de2f68', 'name': 'Record_Weight', 'start': -481354490771, 'stop': 0, 'type': '29463-7', 'codes': [{'system': 'LOINC', 'code': '29463-7', 'display': 'Body Weight'}]}, {'value': 18.497761279908698, 'category': 'vital-signs', 'unit': '%', 'observations': [], 'uuid': 'e54181a9-e1e2-72c0-2b77-8d4f9520e3c8', 'name': 'Record_Weight_For_Length_Percentile', 'start': -481354490771, 'stop': 0, 'type': '77606-2', 'codes': [{'system': 'LOINC', 'code': '77606-2', 'display': 'Weight-for-length Per age and sex'}]}, {'value': 90.16, 'category': 'vital-signs', 'unit': '%', 'observations': [], 'uuid': '1f457f96-9dbb-c4d6-3b4d-0eb98ba74672', 'name': 'Record_Head_Circumference_Percentile', 'start': -481354490771, 'stop': 0, 'type': '8289-1', 'codes': [{'system': 'LOINC', 'code': '8289-1', 'display': 'Head Occipital-frontal circumference Percentile'}]}, {'value': 37.99, 'category': 'vital-signs', 'unit': 'cm', 'observations': [], 'uuid': 'e50e2a53-e77f-e784-5675-ac6454056230', 'name': 'Record Head Circumference', 'start': -481354490771, 'stop': 0, 'type': '9843-4', 'codes': [{'system': 'LOINC', 'code': '9843-4', 'display': 'Head Occipital-frontal circumference'}]}, {'category': 'vital-signs', 'observations': [{'value': 90.0, 'category': 'vital-signs', 'unit': 'mm[Hg]', 'observations': [], 'uuid': 'bdef3411-59ff-6ea8-d4f8-b470a8ca0b26', 'start': -481354490771, 'stop': 0, 'type': '8462-4', 'codes': [{'system': 'LOINC', 'code': '8462-4', 'display': 'Diastolic Blood Pressure'}]}, {'value': 108.0, 'category': 'vital-signs', 'unit': 'mm[Hg]', 'observations': [], 'uuid': '4729c4b5-9e72-b443-a550-9a054079a326', 'start': -481354490771, 'stop': 0, 'type': '8480-6', 'codes': [{'system': 'LOINC', 'code': '8480-6', 'display': 'Systolic Blood Pressure'}]}], 'uuid': '6620bffe-33fe-82d6-0b02-d0f795cfd742', 'name': 'Record_BP', 'start': -481354490771, 'stop': 0, 'type': '85354-9', 'codes': [{'system': 'LOINC', 'code': '85354-9', 'display': 'Blood pressure panel with all children optional'}]}, {'value': 98.0, 'category': 'vital-signs', 'unit': '/min', 'observations': [], 'uuid': 'c19e039d-071c-455e-60ac-8025a2c39296', 'name': 'Record_Heart_Rate', 'start': -481354490771, 'stop': 0, 'type': '8867-4', 'codes': [{'system': 'LOINC', 'code': '8867-4', 'display': 'Heart rate'}]}, {'value': 14.0, 'category': 'vital-signs', 'unit': '/min', 'observations': [], 'uuid': '0ee3df39-e9e1-8e60-f9f6-f9e8a0e077ee', 'name': 'Record_Respiratory_Rate', 'start': -481354490771, 'stop': 0, 'type': '9279-1', 'codes': [{'system': 'LOINC', 'code': '9279-1', 'display': 'Respiratory rate'}]}, {'value': {'system': 'SNOMED-CT', 'code': '266919005', 'display': 'Never smoked tobacco (finding)'}, 'category': 'social-history', 'unit': '', 'observations': [], 'uuid': '7b024c86-dda0-5e21-ec08-a685f183d189', 'name': 'Record_Never_Smoker', 'start': -481354490771, 'stop': 0, 'type': '72166-2', 'codes': [{'system': 'LOINC', 'code': '72166-2', 'display': 'Tobacco smoking status'}]}], 'reports': [{'observations': [{'value': 7.936195460890765, 'category': 'laboratory', 'unit': '10*3/uL', 'observations': [], 'uuid': 'a1340d37-e8e0-98ae-048c-14dabcd2c8f1', 'start': -481354490771, 'stop': 0, 'type': '6690-2', 'codes': [{'system': 'LOINC', 'code': '6690-2', 'display': 'Leukocytes [#/volume] in Blood by Automated count'}]}, {'value': 5.398795194576183, 'category': 'laboratory', 'unit': '10*6/uL', 'observations': [], 'uuid': '4b59189e-8d96-fa86-51b9-0bf567ea3785', 'start': -481354490771, 'stop': 0, 'type': '789-8', 'codes': [{'system': 'LOINC', 'code': '789-8', 'display': 'Erythrocytes [#/volume] in Blood by Automated count'}]}, {'value': 15.415824865205959, 'category': 'laboratory', 'unit': 'g/dL', 'observations': [], 'uuid': '16f96bf1-0b98-60a5-c6fd-798a12146e53', 'start': -481354490771, 'stop': 0, 'type': '718-7', 'codes': [{'system': 'LOINC', 'code': '718-7', 'display': 'Hemoglobin [Mass/volume] in Blood'}]}, {'value': 49.4455125037939, 'category': 'laboratory', 'unit': '%', 'observations': [], 'uuid': '204d524e-b4c9-ae03-5c91-3f012325de2d', 'start': -481354490771, 'stop': 0, 'type': '4544-3', 'codes': [{'system': 'LOINC', 'code': '4544-3', 'display': 'Hematocrit [Volume Fraction] of Blood by Automated count'}]}, {'value': 87.30808592682881, 'category': 'laboratory', 'unit': 'fL', 'observations': [], 'uuid': 'da854e02-216f-9885-d794-0c8ed4511064', 'start': -481354490771, 'stop': 0, 'type': '787-2', 'codes': [{'system': 'LOINC', 'code': '787-2', 'display': 'MCV [Entitic volume] by Automated count'}]}, {'value': 31.524461572320334, 'category': 'laboratory', 'unit': 'pg', 'observations': [], 'uuid': '915cbdcb-2ea0-1bd0-2e1b-fa70988f4a0e', 'start': -481354490771, 'stop': 0, 'type': '785-6', 'codes': [{'system': 'LOINC', 'code': '785-6', 'display': 'MCH [Entitic mass] by Automated count'}]}, {'value': 35.48135483140935, 'category': 'laboratory', 'unit': 'g/dL', 'observations': [], 'uuid': 'cd2d62e1-c76d-0456-d747-db4d9ac5dbd9', 'start': -481354490771, 'stop': 0, 'type': '786-4', 'codes': [{'system': 'LOINC', 'code': '786-4', 'display': 'MCHC [Mass/volume] by Automated count'}]}, {'value': 45.658606730979685, 'category': 'laboratory', 'unit': 'fL', 'observations': [], 'uuid': 'a70469bf-2ab1-591d-b46b-667cc54c8293', 'start': -481354490771, 'stop': 0, 'type': '21000-5', 'codes': [{'system': 'LOINC', 'code': '21000-5', 'display': 'Erythrocyte distribution width [Entitic volume] by Automated count'}]}, {'value': 208.1194723958027, 'category': 'laboratory', 'unit': '10*3/uL', 'observations': [], 'uuid': '903747c8-83c8-f62d-a65b-23249047da29', 'start': -481354490771, 'stop': 0, 'type': '777-3', 'codes': [{'system': 'LOINC', 'code': '777-3', 'display': 'Platelets [#/volume] in Blood by Automated count'}]}, {'value': 453.2027775302534, 'category': 'laboratory', 'unit': 'fL', 'observations': [], 'uuid': '54f0ee75-868c-daad-e149-75687e1697dc', 'start': -481354490771, 'stop': 0, 'type': '32207-3', 'codes': [{'system': 'LOINC', 'code': '32207-3', 'display': 'Platelet distribution width [Entitic volume] in Blood by Automated count'}]}, {'value': 10.05367311714539, 'category': 'laboratory', 'unit': 'fL', 'observations': [], 'uuid': '63f29082-2bfa-550d-a6df-e51f136059c8', 'start': -481354490771, 'stop': 0, 'type': '32623-1', 'codes': [{'system': 'LOINC', 'code': '32623-1', 'display': 'Platelet mean volume [Entitic volume] in Blood by Automated count'}]}], 'uuid': '1062ebff-11e2-0007-cc3a-104ac89ba4d7', 'name': 'Record_CBC_Panel', 'start': -481354490771, 'stop': 0, 'type': '58410-2', 'codes': [{'system': 'LOINC', 'code': '58410-2', 'display': 'CBC panel - Blood by Automated count'}]}], 'conditions': [{'uuid': '9c872d9f-5780-be3e-0228-2a47609865bd', 'name': 'Medication_Review_Due', 'start': -481354490771, 'stop': -478330490771, 'type': '314529007', 'codes': [{'system': 'SNOMED-CT', 'code': '314529007', 'display': 'Medication review due (situation)'}]}], 'allergies': [], 'procedures': [], 'immunizations': [], 'medications': [], 'careplans': [], 'imagingStudies': [], 'devices': [], 'supplies': [], 'provider': {'uuid': 'ebd34553-6bca-3683-bf0a-0ce1f2631881', 'locationUuid': 'b5481781-c062-3974-b502-0ee0f1af9f13', 'id': '1801827161', 'npi': '1801827161', 'cmsProviderNum': '102829', 'cmsPin': '', 'cmsUpin': '', 'cmsCategory': '', 'cmsProviderType': '00-04', 'cmsRegion': '', 'cliaNumber': '', 'name': 'LYMPHOEDEMA SERVICE', 'location': {'totalPopulation': 3995491, 'state': 'South West'}, 'address': 'WHEATSTONE', 'city': 'CHELTENHAM', 'state': 'SW', 'postcode': 'GL4 3TA', 'fipsCountyCode': '', 'phone': '0300 4228750', 'type': 'PRIMARY', 'institutional': False, 'coordinates': {'x': -2.1983154, 'y': 51.858376}, 'servicesProvided': ['WELLNESS']}, 'clinician': {'identifier': 24740, 'uuid': 'cb5b1d40-9abe-3b1d-9f61-b61df986360d', 'npi': '9999752592', 'attributes': {'specialty': 'GENERAL PRACTICE', 'address': 'WHEATSTONE', 'coordinate': {'x': -2.1983154, 'y': 51.858376}, 'education': 'bs_degree', 'race': 'white', 'ethnicity': 'nonmixed', 'gender': 'F', 'city': 'CHELTENHAM', 'postcode': 'GL4 3TA', 'last_name': 'Baxter', 'name_prefix': 'Dr.', 'first_language': 'english', 'identifier_ssn': '999-79-3358', 'name': 'Aimee Baxter', 'state': 'SW', 'first_name': 'Aimee'}, 'servicesProvided': [], 'organization': {'uuid': 'ebd34553-6bca-3683-bf0a-0ce1f2631881', 'locationUuid': 'b5481781-c062-3974-b502-0ee0f1af9f13', 'id': '1801827161', 'npi': '1801827161', 'cmsProviderNum': '102829', 'cmsPin': '', 'cmsUpin': '', 'cmsCategory': '', 'cmsProviderType': '00-04', 'cmsRegion': '', 'cliaNumber': '', 'name': 'LYMPHOEDEMA SERVICE', 'location': {'totalPopulation': 3995491, 'state': 'South West'}, 'address': 'WHEATSTONE', 'city': 'CHELTENHAM', 'state': 'SW', 'postcode': 'GL4 3TA', 'fipsCountyCode': '', 'phone': '0300 4228750', 'type': 'PRIMARY', 'institutional': False, 'coordinates': {'x': -2.1983154, 'y': 51.858376}, 'servicesProvided': ['WELLNESS']}, 'encounters': 56, 'procedures': 0, 'populationSeed': 0}, 'ended': True, 'endedTime': -481354490771, 'chronicMedsRenewed': False, 'uuid': '51721fbb-e974-4e79-53d2-feb731851469', 'name': 'Encounter Module Scheduled Wellness', 'start': -481354490771, 'stop': -481353590771, 'type': 'wellness', 'codes': [{'system': 'SNOMED-CT', 'code': '410620009', 'display': 'Well child visit (procedure)'}]}\n"
     ]
    }
   ],
   "source": [
    "test_encounter = encounters[0]\n",
    "print(test_encounter)"
   ]
  },
  {
   "cell_type": "code",
   "execution_count": 67,
   "metadata": {},
   "outputs": [],
   "source": [
    "readable_encounter_summary = {\n",
    "}"
   ]
  },
  {
   "cell_type": "code",
   "execution_count": 68,
   "metadata": {},
   "outputs": [],
   "source": [
    "observations = []\n",
    "for observation in test_encounter['observations']:\n",
    "    if 'value' in observation:\n",
    "        observations.append(f'{observation['codes'][0]['display']}: {observation['value']} {observation['unit']}')\n",
    "\n",
    "readable_encounter_summary['observations'] = observations"
   ]
  },
  {
   "cell_type": "code",
   "execution_count": 70,
   "metadata": {},
   "outputs": [],
   "source": [
    "observations = readable_encounter_summary['observations']\n",
    "for report in test_encounter['reports']:\n",
    "    for observation in report['observations']:\n",
    "        observations.append(f'{observation['codes'][0]['display']}: {observation['value']} {observation['unit']}')\n",
    "\n",
    "readable_encounter_summary['observations'] = observations"
   ]
  },
  {
   "cell_type": "code",
   "execution_count": 71,
   "metadata": {},
   "outputs": [
    {
     "data": {
      "text/plain": [
       "{'observations': ['Body Height: 55.8 cm',\n",
       "  'Pain severity - 0-10 verbal numeric rating [Score] - Reported: 3.0 {score}',\n",
       "  'Body Weight: 4.6 kg',\n",
       "  'Weight-for-length Per age and sex: 18.497761279908698 %',\n",
       "  'Head Occipital-frontal circumference Percentile: 90.16 %',\n",
       "  'Head Occipital-frontal circumference: 37.99 cm',\n",
       "  'Heart rate: 99.0 /min',\n",
       "  'Respiratory rate: 14.0 /min',\n",
       "  'Leukocytes [#/volume] in Blood by Automated count: 7.936195460890765 10*3/uL',\n",
       "  'Erythrocytes [#/volume] in Blood by Automated count: 5.398795194576183 10*6/uL',\n",
       "  'Hemoglobin [Mass/volume] in Blood: 15.415824865205959 g/dL',\n",
       "  'Hematocrit [Volume Fraction] of Blood by Automated count: 49.4455125037939 %',\n",
       "  'MCV [Entitic volume] by Automated count: 87.30808592682881 fL',\n",
       "  'MCH [Entitic mass] by Automated count: 31.524461572320334 pg',\n",
       "  'MCHC [Mass/volume] by Automated count: 35.48135483140935 g/dL',\n",
       "  'Erythrocyte distribution width [Entitic volume] by Automated count: 45.658606730979685 fL',\n",
       "  'Platelets [#/volume] in Blood by Automated count: 208.1194723958027 10*3/uL',\n",
       "  'Platelet distribution width [Entitic volume] in Blood by Automated count: 453.2027775302534 fL',\n",
       "  'Platelet mean volume [Entitic volume] in Blood by Automated count: 10.05367311714539 fL',\n",
       "  \"Tobacco smoking status: {'system': 'SNOMED-CT', 'code': '266919005', 'display': 'Never smoked tobacco (finding)'} \",\n",
       "  'Body Height: 55.8 cm',\n",
       "  'Pain severity - 0-10 verbal numeric rating [Score] - Reported: 3.0 {score}',\n",
       "  'Body Weight: 4.6 kg',\n",
       "  'Weight-for-length Per age and sex: 18.497761279908698 %',\n",
       "  'Head Occipital-frontal circumference Percentile: 90.16 %',\n",
       "  'Head Occipital-frontal circumference: 37.99 cm',\n",
       "  'Heart rate: 98.0 /min',\n",
       "  'Respiratory rate: 14.0 /min',\n",
       "  \"Tobacco smoking status: {'system': 'SNOMED-CT', 'code': '266919005', 'display': 'Never smoked tobacco (finding)'} \",\n",
       "  'Leukocytes [#/volume] in Blood by Automated count: 7.936195460890765 10*3/uL',\n",
       "  'Erythrocytes [#/volume] in Blood by Automated count: 5.398795194576183 10*6/uL',\n",
       "  'Hemoglobin [Mass/volume] in Blood: 15.415824865205959 g/dL',\n",
       "  'Hematocrit [Volume Fraction] of Blood by Automated count: 49.4455125037939 %',\n",
       "  'MCV [Entitic volume] by Automated count: 87.30808592682881 fL',\n",
       "  'MCH [Entitic mass] by Automated count: 31.524461572320334 pg',\n",
       "  'MCHC [Mass/volume] by Automated count: 35.48135483140935 g/dL',\n",
       "  'Erythrocyte distribution width [Entitic volume] by Automated count: 45.658606730979685 fL',\n",
       "  'Platelets [#/volume] in Blood by Automated count: 208.1194723958027 10*3/uL',\n",
       "  'Platelet distribution width [Entitic volume] in Blood by Automated count: 453.2027775302534 fL',\n",
       "  'Platelet mean volume [Entitic volume] in Blood by Automated count: 10.05367311714539 fL',\n",
       "  'Leukocytes [#/volume] in Blood by Automated count: 7.936195460890765 10*3/uL',\n",
       "  'Erythrocytes [#/volume] in Blood by Automated count: 5.398795194576183 10*6/uL',\n",
       "  'Hemoglobin [Mass/volume] in Blood: 15.415824865205959 g/dL',\n",
       "  'Hematocrit [Volume Fraction] of Blood by Automated count: 49.4455125037939 %',\n",
       "  'MCV [Entitic volume] by Automated count: 87.30808592682881 fL',\n",
       "  'MCH [Entitic mass] by Automated count: 31.524461572320334 pg',\n",
       "  'MCHC [Mass/volume] by Automated count: 35.48135483140935 g/dL',\n",
       "  'Erythrocyte distribution width [Entitic volume] by Automated count: 45.658606730979685 fL',\n",
       "  'Platelets [#/volume] in Blood by Automated count: 208.1194723958027 10*3/uL',\n",
       "  'Platelet distribution width [Entitic volume] in Blood by Automated count: 453.2027775302534 fL',\n",
       "  'Platelet mean volume [Entitic volume] in Blood by Automated count: 10.05367311714539 fL']}"
      ]
     },
     "execution_count": 71,
     "metadata": {},
     "output_type": "execute_result"
    }
   ],
   "source": [
    "for condition in test_encounter['conditions']:\n",
    "    if condition['']"
   ]
  },
  {
   "cell_type": "code",
   "execution_count": null,
   "metadata": {},
   "outputs": [],
   "source": []
  }
 ],
 "metadata": {
  "kernelspec": {
   "display_name": ".venv",
   "language": "python",
   "name": "python3"
  },
  "language_info": {
   "codemirror_mode": {
    "name": "ipython",
    "version": 3
   },
   "file_extension": ".py",
   "mimetype": "text/x-python",
   "name": "python",
   "nbconvert_exporter": "python",
   "pygments_lexer": "ipython3",
   "version": "3.12.0"
  }
 },
 "nbformat": 4,
 "nbformat_minor": 2
}
